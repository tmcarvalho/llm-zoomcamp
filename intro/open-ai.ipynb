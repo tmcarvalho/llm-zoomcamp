{
 "cells": [
  {
   "cell_type": "markdown",
   "id": "bf776996-c47a-4045-9c5a-c6f0e3a9c3f8",
   "metadata": {},
   "source": [
    "export OPENAI_KEY=\"{key from openai platform}\""
   ]
  },
  {
   "cell_type": "code",
   "execution_count": 2,
   "id": "643bd4c6-4ff5-4617-a8e3-1bf22710095e",
   "metadata": {},
   "outputs": [],
   "source": [
    "import openai\n",
    "from openai import OpenAI\n",
    "import os"
   ]
  },
  {
   "cell_type": "code",
   "execution_count": 6,
   "id": "f3f18833-9a20-418a-9218-b5c20f72f8c5",
   "metadata": {},
   "outputs": [],
   "source": [
    "# Open the text file and read the key\n",
    "with open('../open-aikey.txt', 'r') as file:\n",
    "    key = file.read().strip()\n",
    "client = OpenAI(api_key=key)"
   ]
  },
  {
   "cell_type": "code",
   "execution_count": 8,
   "id": "17d35d6f-da7b-4cca-8c57-f74181f93246",
   "metadata": {},
   "outputs": [],
   "source": [
    "response = client.chat.completions.create(\n",
    "    model='gpt-3.5-turbo-0125',\n",
    "    messages=[{\"role\":\"user\", \"content\":\"is it too late to join the course?\"}]\n",
    ")"
   ]
  },
  {
   "cell_type": "code",
   "execution_count": 6,
   "id": "568b38e6-617e-4dcc-8a63-09c8d1e43903",
   "metadata": {},
   "outputs": [
    {
     "data": {
      "text/plain": [
       "'It depends on the course and the policies of the institution offering it. Some courses may have set enrollment deadlines, while others may allow late registration or enrollment. It is best to contact the institution offering the course directly to inquire about their policies for late enrollment.'"
      ]
     },
     "execution_count": 6,
     "metadata": {},
     "output_type": "execute_result"
    }
   ],
   "source": [
    "response.choices[0].message.content"
   ]
  },
  {
   "cell_type": "code",
   "execution_count": null,
   "id": "d6c83fdb-5fe3-4bcb-99f5-91ade9f8eb75",
   "metadata": {},
   "outputs": [],
   "source": []
  }
 ],
 "metadata": {
  "kernelspec": {
   "display_name": "Python 3 (ipykernel)",
   "language": "python",
   "name": "python3"
  },
  "language_info": {
   "codemirror_mode": {
    "name": "ipython",
    "version": 3
   },
   "file_extension": ".py",
   "mimetype": "text/x-python",
   "name": "python",
   "nbconvert_exporter": "python",
   "pygments_lexer": "ipython3",
   "version": "3.11.7"
  }
 },
 "nbformat": 4,
 "nbformat_minor": 5
}
